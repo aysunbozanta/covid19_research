{
 "cells": [
  {
   "cell_type": "code",
   "execution_count": 1,
   "id": "6cd077a3",
   "metadata": {},
   "outputs": [
    {
     "name": "stdout",
     "output_type": "stream",
     "text": [
      "Requirement already satisfied: mpld3 in /Users/idilaydin/opt/anaconda3/lib/python3.8/site-packages (0.5.5)\n",
      "Requirement already satisfied: jinja2 in /Users/idilaydin/opt/anaconda3/lib/python3.8/site-packages (from mpld3) (2.11.3)\n",
      "Requirement already satisfied: matplotlib in /Users/idilaydin/opt/anaconda3/lib/python3.8/site-packages (from mpld3) (3.3.4)\n",
      "Requirement already satisfied: MarkupSafe>=0.23 in /Users/idilaydin/opt/anaconda3/lib/python3.8/site-packages (from jinja2->mpld3) (1.1.1)\n",
      "Requirement already satisfied: python-dateutil>=2.1 in /Users/idilaydin/opt/anaconda3/lib/python3.8/site-packages (from matplotlib->mpld3) (2.8.1)\n",
      "Requirement already satisfied: pyparsing!=2.0.4,!=2.1.2,!=2.1.6,>=2.0.3 in /Users/idilaydin/opt/anaconda3/lib/python3.8/site-packages (from matplotlib->mpld3) (2.4.7)\n",
      "Requirement already satisfied: kiwisolver>=1.0.1 in /Users/idilaydin/opt/anaconda3/lib/python3.8/site-packages (from matplotlib->mpld3) (1.3.1)\n",
      "Requirement already satisfied: cycler>=0.10 in /Users/idilaydin/opt/anaconda3/lib/python3.8/site-packages (from matplotlib->mpld3) (0.10.0)\n",
      "Requirement already satisfied: numpy>=1.15 in /Users/idilaydin/opt/anaconda3/lib/python3.8/site-packages (from matplotlib->mpld3) (1.20.1)\n",
      "Requirement already satisfied: pillow>=6.2.0 in /Users/idilaydin/opt/anaconda3/lib/python3.8/site-packages (from matplotlib->mpld3) (8.2.0)\n",
      "Requirement already satisfied: six in /Users/idilaydin/opt/anaconda3/lib/python3.8/site-packages (from cycler>=0.10->matplotlib->mpld3) (1.15.0)\n",
      "Requirement already satisfied: lmfit in /Users/idilaydin/opt/anaconda3/lib/python3.8/site-packages (1.0.2)\n",
      "Requirement already satisfied: scipy>=1.2 in /Users/idilaydin/opt/anaconda3/lib/python3.8/site-packages (from lmfit) (1.6.2)\n",
      "Requirement already satisfied: numpy>=1.16 in /Users/idilaydin/opt/anaconda3/lib/python3.8/site-packages (from lmfit) (1.20.1)\n",
      "Requirement already satisfied: uncertainties>=3.0.1 in /Users/idilaydin/opt/anaconda3/lib/python3.8/site-packages (from lmfit) (3.1.5)\n",
      "Requirement already satisfied: asteval>=0.9.16 in /Users/idilaydin/opt/anaconda3/lib/python3.8/site-packages (from lmfit) (0.9.25)\n",
      "Requirement already satisfied: future in /Users/idilaydin/opt/anaconda3/lib/python3.8/site-packages (from uncertainties>=3.0.1->lmfit) (0.18.2)\n"
     ]
    }
   ],
   "source": [
    "## IMPORTS ## \n",
    "import numpy as np\n",
    "import pandas as pd\n",
    "pd.options.mode.chained_assignment = None  # default='warn'\n",
    "\n",
    "import matplotlib.pyplot as plt\n",
    "import matplotlib.dates as mdates\n",
    "%matplotlib inline \n",
    "!pip install mpld3\n",
    "import mpld3\n",
    "mpld3.enable_notebook()\n",
    "\n",
    "from scipy.integrate import odeint\n",
    "!pip install lmfit\n",
    "import lmfit\n",
    "from lmfit.lineshapes import gaussian, lorentzian\n",
    "\n",
    "import warnings\n",
    "warnings.filterwarnings('ignore')"
   ]
  },
  {
   "cell_type": "code",
   "execution_count": 2,
   "id": "dbd35c73",
   "metadata": {},
   "outputs": [],
   "source": [
    "## DICTS ## \n",
    "beds = pd.read_csv(\"https://raw.githubusercontent.com/hf2000510/infectious_disease_modelling/master/data/beds.csv\", header=0)\n",
    "agegroups = pd.read_csv(\"https://raw.githubusercontent.com/hf2000510/infectious_disease_modelling/master/data/agegroups.csv\")\n",
    "probabilities = pd.read_csv(\"https://raw.githubusercontent.com/hf2000510/infectious_disease_modelling/master/data/probabilities.csv\")\n",
    "\n",
    "\n",
    "beds_lookup = dict(zip(beds[\"Country\"], beds[\"ICU_Beds\"]))\n",
    "agegroup_lookup = dict(zip(agegroups['Location'], agegroups[['0_9', '10_19', '20_29', '30_39', '40_49', '50_59', '60_69', '70_79', '80_89', '90_100']].values))\n",
    "\n"
   ]
  },
  {
   "cell_type": "code",
   "execution_count": 3,
   "id": "dd707f3c",
   "metadata": {},
   "outputs": [],
   "source": [
    "## PROBS ## \n",
    "prob_I_to_C_1 = list(probabilities.prob_I_to_ICU_1.values)\n",
    "prob_I_to_C_2 = list(probabilities.prob_I_to_ICU_2.values)\n",
    "prob_C_to_Death_1 = list(probabilities.prob_ICU_to_Death_1.values)\n",
    "prob_C_to_Death_2 = list(probabilities.prob_ICU_to_Death_2.values)"
   ]
  },
  {
   "cell_type": "markdown",
   "id": "d9f513e3",
   "metadata": {},
   "source": [
    "# PLOT "
   ]
  },
  {
   "cell_type": "code",
   "execution_count": 4,
   "id": "c7107772",
   "metadata": {},
   "outputs": [
    {
     "data": {
      "text/html": [
       "\n",
       "\n",
       "<style>\n",
       "\n",
       "</style>\n",
       "\n",
       "<div id=\"fig_el495161402526465295845506079802\"></div>\n",
       "<script>\n",
       "function mpld3_load_lib(url, callback){\n",
       "  var s = document.createElement('script');\n",
       "  s.src = url;\n",
       "  s.async = true;\n",
       "  s.onreadystatechange = s.onload = callback;\n",
       "  s.onerror = function(){console.warn(\"failed to load library \" + url);};\n",
       "  document.getElementsByTagName(\"head\")[0].appendChild(s);\n",
       "}\n",
       "\n",
       "if(typeof(mpld3) !== \"undefined\" && mpld3._mpld3IsLoaded){\n",
       "   // already loaded: just create the figure\n",
       "   !function(mpld3){\n",
       "       \n",
       "       mpld3.draw_figure(\"fig_el495161402526465295845506079802\", {\"width\": 432.0, \"height\": 288.0, \"axes\": [], \"data\": {}, \"id\": \"el49516140252646529584\", \"plugins\": [{\"type\": \"reset\"}, {\"type\": \"zoom\", \"button\": true, \"enabled\": false}, {\"type\": \"boxzoom\", \"button\": true, \"enabled\": false}]});\n",
       "   }(mpld3);\n",
       "}else if(typeof define === \"function\" && define.amd){\n",
       "   // require.js is available: use it to load d3/mpld3\n",
       "   require.config({paths: {d3: \"https://d3js.org/d3.v5\"}});\n",
       "   require([\"d3\"], function(d3){\n",
       "      window.d3 = d3;\n",
       "      mpld3_load_lib(\"https://mpld3.github.io/js/mpld3.v0.5.5.js\", function(){\n",
       "         \n",
       "         mpld3.draw_figure(\"fig_el495161402526465295845506079802\", {\"width\": 432.0, \"height\": 288.0, \"axes\": [], \"data\": {}, \"id\": \"el49516140252646529584\", \"plugins\": [{\"type\": \"reset\"}, {\"type\": \"zoom\", \"button\": true, \"enabled\": false}, {\"type\": \"boxzoom\", \"button\": true, \"enabled\": false}]});\n",
       "      });\n",
       "    });\n",
       "}else{\n",
       "    // require.js not available: dynamically load d3 & mpld3\n",
       "    mpld3_load_lib(\"https://d3js.org/d3.v5.js\", function(){\n",
       "         mpld3_load_lib(\"https://mpld3.github.io/js/mpld3.v0.5.5.js\", function(){\n",
       "                 \n",
       "                 mpld3.draw_figure(\"fig_el495161402526465295845506079802\", {\"width\": 432.0, \"height\": 288.0, \"axes\": [], \"data\": {}, \"id\": \"el49516140252646529584\", \"plugins\": [{\"type\": \"reset\"}, {\"type\": \"zoom\", \"button\": true, \"enabled\": false}, {\"type\": \"boxzoom\", \"button\": true, \"enabled\": false}]});\n",
       "            })\n",
       "         });\n",
       "}\n",
       "</script>"
      ],
      "text/plain": [
       "<Figure size 432x288 with 0 Axes>"
      ]
     },
     "metadata": {},
     "output_type": "display_data"
    }
   ],
   "source": [
    "plt.gcf().subplots_adjust(bottom=0.15)\n",
    "\n",
    "def plotter(t, S, E, I, C, R, D, V1, V2, R_0, B, S_1=None, S_2=None, x_ticks=None):\n",
    "    if S_1 is not None and S_2 is not None:\n",
    "      print(f\"percentage going to ICU: {S_1*100}; percentage dying in ICU: {S_2 * 100}\")\n",
    "\n",
    "\n",
    "    f, ax = plt.subplots(1,1,figsize=(10,5))\n",
    "    \n",
    "    if x_ticks is None:\n",
    "        #ax.plot(t, S, 'b', alpha=0.7, linewidth=2, label='Susceptible')\n",
    "        ax.plot(t, E, 'y', alpha=0.7, linewidth=2, label='Exposed')\n",
    "        ax.plot(t, I, 'r', alpha=0.7, linewidth=2, label='Infected')\n",
    "        ax.plot(t, C, 'r--', alpha=0.7, linewidth=2, label='Critical')\n",
    "       # ax.plot(t, R, 'g', alpha=0.7, linewidth=2, label='Recovered')\n",
    "       # ax.plot(t, D, 'k', alpha=0.7, linewidth=2, label='Dead')\n",
    "        #ax.plot(t, V1, 'cyan', alpha=0.7, linewidth=2, label='First Dose')\n",
    "       # ax.plot(t, V2, 'orange', alpha=0.7, linewidth=2, label='Second Dose')\n",
    "\n",
    "        ax.plot(t, S+E+I+R+D+C+V1+V2, 'c--', alpha=0.7, linewidth=2, label='Total')\n",
    "\n",
    "    else:\n",
    "        #ax.plot(x_ticks, S, 'b', alpha=0.7, linewidth=2, label='Susceptible')\n",
    "        ax.plot(x_ticks, E, 'y', alpha=0.7, linewidth=2, label='Exposed')\n",
    "        ax.plot(x_ticks, I, 'r', alpha=0.7, linewidth=2, label='Infected')\n",
    "        ax.plot(x_ticks, C, 'r--', alpha=0.7, linewidth=2, label='Critical')\n",
    "       # ax.plot(x_ticks, R, 'g', alpha=0.7, linewidth=2, label='Recovered')\n",
    "        ax.plot(x_ticks, D, 'k', alpha=0.7, linewidth=2, label='Dead')\n",
    "        #ax.plot(x_ticks, V1, 'cyan', alpha=0.7, linewidth=2, label='First Dose')\n",
    "        #ax.plot(x_ticks, V2, 'orange', alpha=0.7, linewidth=2, label='Second Dose')\n",
    "        #ax.plot(x_ticks, S+E+I+R+D+C+V1+V2, 'c--', alpha=0.7, linewidth=2, label='Total')\n",
    "\n",
    "        ax.xaxis.set_major_locator(mdates.YearLocator())\n",
    "        ax.xaxis.set_major_formatter(mdates.DateFormatter('%Y-%m-%d'))\n",
    "        ax.xaxis.set_minor_locator(mdates.MonthLocator())\n",
    "        f.autofmt_xdate()\n",
    "\n",
    "    ax.title.set_text('SEICRDV-Model')\n",
    "\n",
    "    ax.grid(b=True, which='major', c='w', lw=2, ls='-')\n",
    "    legend = ax.legend()\n",
    "    legend.get_frame().set_alpha(0.5)\n",
    "    for spine in ('top', 'right', 'bottom', 'left'):\n",
    "        ax.spines[spine].set_visible(False)\n",
    "\n",
    "        \n",
    "    plt.tight_layout(pad=5.0)\n",
    "    f = plt.figure(figsize=(10,4))\n",
    "    \n",
    "    \n",
    "    # sp1\n",
    "    ax1 = f.add_subplot(131)\n",
    "    if x_ticks is None:\n",
    "        ax1.plot(t, R_0, 'b--', alpha=0.7, linewidth=2, label='R_0')\n",
    "    else:\n",
    "        ax1.plot(x_ticks, R_0, 'b--', alpha=0.7, linewidth=2, label='R_0')\n",
    "        ax1.xaxis.set_major_locator(mdates.YearLocator())\n",
    "        ax1.xaxis.set_major_formatter(mdates.DateFormatter('%Y-%m-%d'))\n",
    "        ax1.xaxis.set_minor_locator(mdates.MonthLocator())\n",
    "        f.autofmt_xdate()\n",
    "\n",
    " \n",
    "    ax1.title.set_text('R_0 over time')\n",
    "    ax1.grid(b=True, which='major', c='w', lw=2, ls='-')\n",
    "    legend = ax1.legend()\n",
    "    legend.get_frame().set_alpha(0.5)\n",
    "    for spine in ('top', 'right', 'bottom', 'left'):\n",
    "        ax.spines[spine].set_visible(False)\n",
    "        \n",
    "        \n",
    "  # sp2\n",
    "    ax2 = f.add_subplot(132)\n",
    "    total_CFR = [0] + [100 * D[i] / sum(sigma*E[:i]) if sum(sigma*E[:i])>0 else 0 for i in range(1, len(t))]\n",
    "    daily_CFR = [0] + [100 * ((D[i]-D[i-1]) / ((R[i]-R[i-1]) + (D[i]-D[i-1]))) if max((R[i]-R[i-1]), (D[i]-D[i-1]))>10 else 0 for i in range(1, len(t))]\n",
    "    if x_ticks is None:\n",
    "        ax2.plot(t, total_CFR, 'r--', alpha=0.7, linewidth=2, label='total')\n",
    "        ax2.plot(t, daily_CFR, 'b--', alpha=0.7, linewidth=2, label='daily')\n",
    "    else:\n",
    "        ax2.plot(x_ticks, total_CFR, 'r--', alpha=0.7, linewidth=2, label='total')\n",
    "        ax2.plot(x_ticks, daily_CFR, 'b--', alpha=0.7, linewidth=2, label='daily')\n",
    "        ax2.xaxis.set_major_locator(mdates.YearLocator())\n",
    "        ax2.xaxis.set_major_formatter(mdates.DateFormatter('%Y-%m-%d'))\n",
    "        ax2.xaxis.set_minor_locator(mdates.MonthLocator())\n",
    "        f.autofmt_xdate()\n",
    "\n",
    "    ax2.title.set_text('Fatality Rate (%)')\n",
    "    ax2.grid(b=True, which='major', c='w', lw=2, ls='-')\n",
    "    legend = ax2.legend()\n",
    "    legend.get_frame().set_alpha(0.5)\n",
    "    for spine in ('top', 'right', 'bottom', 'left'):\n",
    "        ax.spines[spine].set_visible(False)\n",
    "        \n",
    "  # sp3\n",
    "    ax3 = f.add_subplot(133)\n",
    "    newDs = [0] + [D[i]-D[i-1] for i in range(1, len(t))]\n",
    "    if x_ticks is None:\n",
    "        ax3.plot(t, newDs, 'r--', alpha=0.7, linewidth=2, label='total')\n",
    "        ax3.plot(t, [max(0, C[i]-B(i)) for i in range(len(t))], 'b--', alpha=0.7, linewidth=2, label=\"over capacity\")\n",
    "    else:\n",
    "        ax3.plot(x_ticks, newDs, 'r--', alpha=0.7, linewidth=2, label='total')\n",
    "        ax3.plot(x_ticks, [max(0, C[i]-B(i)) for i in range(len(t))], 'b--', alpha=0.7, linewidth=2, label=\"over capacity\")\n",
    "        ax3.xaxis.set_major_locator(mdates.YearLocator())\n",
    "        ax3.xaxis.set_major_formatter(mdates.DateFormatter('%Y-%m-%d'))\n",
    "        ax3.xaxis.set_minor_locator(mdates.MonthLocator())\n",
    "        f.autofmt_xdate()\n",
    "\n",
    "    ax3.title.set_text('Deaths per day')\n",
    "    ax3.yaxis.set_tick_params(length=0)\n",
    "    ax3.xaxis.set_tick_params(length=0)\n",
    "    ax3.grid(b=True, which='major', c='w', lw=2, ls='-')\n",
    "    legend = ax3.legend()\n",
    "    legend.get_frame().set_alpha(0.5)\n",
    "    for spine in ('top', 'right', 'bottom', 'left'):\n",
    "        ax.spines[spine].set_visible(False)\n",
    "\n",
    "        \n",
    "    \n",
    "    \n"
   ]
  },
  {
   "cell_type": "markdown",
   "id": "4ed82b7b",
   "metadata": {},
   "source": [
    "# Model"
   ]
  },
  {
   "cell_type": "code",
   "execution_count": 5,
   "id": "455ae184",
   "metadata": {},
   "outputs": [],
   "source": [
    "def deriv(y, t, beta, gamma, sigma, N, p_I_to_C, p_C_to_D, Beds, alpha1, alpha2, epsilon1, epsilon2):\n",
    "    S, E, I, C, R, D, V1, V2 = y\n",
    "\n",
    "    if t < 355: # vax begins \n",
    "        dSdt = -beta(t) * I * S / N\n",
    "        dEdt = beta(t) * I * S / N - sigma * E\n",
    "        dIdt = sigma * E - 1/12.0 * p_I_to_C * I - gamma * (1 - p_I_to_C) * I\n",
    "        dCdt = 1/12.0 * p_I_to_C * I - 1/7.5 * p_C_to_D * min(Beds(t), C) - max(0, C-Beds(t)) - (1 - p_C_to_D) * 1/6.5 * min(Beds(t), C)\n",
    "        dRdt = gamma * (1 - p_I_to_C) * I + (1 - p_C_to_D) * 1/6.5 * min(Beds(t), C)\n",
    "        dDdt = 1/7.5 * p_C_to_D * min(Beds(t), C) + max(0, C-Beds(t))\n",
    "        dV1dt = 0 \n",
    "        dV2dt = 0 \n",
    "        \n",
    "    elif t < 380: # second dose vax begins \n",
    "        dSdt = -beta(t) * I * S / N - (alpha1 * S) \n",
    "        dEdt = beta(t) * I * S / N + ((1 - epsilon1) * beta(t) * V1 * I / N) - sigma * E\n",
    "        dIdt = sigma * E - 1/12.0 * p_I_to_C * I - gamma * (1 - p_I_to_C) * I \n",
    "        dCdt = 1/12.0 * p_I_to_C * I - 1/7.5 * p_C_to_D * min(Beds(t), C) - max(0, C-Beds(t)) - (1 - p_C_to_D) * 1/6.5 * min(Beds(t), C)\n",
    "        dRdt = gamma * (1 - p_I_to_C) * I + (1 - p_C_to_D) * 1/6.5 * min(Beds(t), C)\n",
    "        dDdt = 1/7.5 * p_C_to_D * min(Beds(t), C) + max(0, C-Beds(t))\n",
    "        dV1dt = (alpha1 * S) - ((1 - epsilon1) * beta(t) * V1 * I / N) \n",
    "        dV2dt = 0 \n",
    "        \n",
    "    elif t < 465: # second dose vax begins \n",
    "        dSdt = -beta(t) * I * S / N - (alpha1 * S) \n",
    "        dEdt = beta(t) * I * S / N + ((1 - epsilon1) * beta(t) * V1 * I / N)+ ((1 - epsilon2) * beta(t) * V2 * I / N) - sigma * E\n",
    "        dIdt = sigma * E - 1/12.0 * p_I_to_C * I - gamma * (1 - p_I_to_C) * I\n",
    "        dCdt = 1/12.0 * p_I_to_C * I - 1/7.5 * p_C_to_D * min(Beds(t), C) - max(0, C-Beds(t)) - (1 - p_C_to_D) * 1/6.5 * min(Beds(t), C)\n",
    "        dRdt = gamma * (1 - p_I_to_C) * I + (1 - p_C_to_D) * 1/6.5 * min(Beds(t), C)\n",
    "        dDdt = 1/7.5 * p_C_to_D * min(Beds(t), C) + max(0, C-Beds(t))\n",
    "        dV1dt = (alpha1 * S) - ((1 - epsilon1) * beta(t) * V1 * I / N) - (alpha2 * V1)\n",
    "        dV2dt = (alpha2 * V1) - ((1 - epsilon2) * beta(t) * V2 * I / N)\n",
    "        \n",
    "    else: \n",
    "        dSdt = -beta(t) * I * S / N - (alpha1 * S) \n",
    "        dEdt = beta(t) * I * S / N + ((1 - epsilon1) * beta(t) * V1 * I / N)+ ((1 - epsilon2) * beta(t) * V2 * I / N) - sigma * E\n",
    "        dIdt = sigma * E - 1/12.0 * p_I_to_C * I - gamma * (1 - p_I_to_C) * I\n",
    "        dCdt = 1/12.0 * p_I_to_C * I - 1/7.5 * p_C_to_D * min(Beds(t), C) - max(0, C-Beds(t)) - (1 - p_C_to_D) * 1/6.5 * min(Beds(t), C)\n",
    "        dRdt = gamma * (1 - p_I_to_C) * I + (1 - p_C_to_D) * 1/6.5 * min(Beds(t), C)\n",
    "        dDdt = 1/7.5 * p_C_to_D * min(Beds(t), C) + max(0, C-Beds(t))\n",
    "        dV1dt = (alpha1 * S) - ((1 - epsilon1) * beta(t) * V1 * I / N) - (alpha2 * V1)\n",
    "        dV2dt = (0.015 * V1) - ((1 - epsilon2) * beta(t) * V2 * I / N)\n",
    " \n",
    "    return dSdt, dEdt, dIdt, dCdt, dRdt, dDdt, dV1dt, dV2dt\n"
   ]
  },
  {
   "cell_type": "code",
   "execution_count": 6,
   "id": "d0afb09c",
   "metadata": {},
   "outputs": [],
   "source": [
    "gamma = 1.0/10\n",
    "sigma = 1.0/5.0\n",
    "epsilon1 = 0.83 \n",
    "epsilon2 = 0.94 # vaccine is 95% efficient\n",
    "alpha1 = 0.01\n",
    "alpha2 = 0.05"
   ]
  },
  {
   "cell_type": "code",
   "execution_count": 7,
   "id": "8d941f71",
   "metadata": {},
   "outputs": [],
   "source": [
    "\n",
    "\n",
    "def logistic_R_0(t, R_0_start, k, x0, R_0_end, R_1_start, k1, x1, R_1_end, k2, x2, R_2_start, k3, x3, R_2_end, k4, x4, R_current, k5, x5):\n",
    "    if t < x1 :\n",
    "        R0 = (R_0_start-R_0_end) / (1 + np.exp(k*(t-x0))) + R_0_end # lockdown 1 \n",
    "    elif  t < x2: \n",
    "        R0 = (R_0_end-R_1_start) / (1 + np.exp(k1*(t-x1))) + R_1_start # ease\n",
    "    elif t < x3 : \n",
    "        R0 = (R_1_start-R_1_end) / (1 + np.exp(k2*(t-x2))) + R_1_end # lockdown 2\n",
    "    elif t < x4 : \n",
    "        R0 = (R_1_end-R_2_start) / (1 + np.exp(k3*(t-x3))) + R_2_start # ease\n",
    "    elif t < x5 : \n",
    "        R0 = (R_2_start-R_2_end) / (1 + np.exp(k4*(t-x4))) + R_2_end # lockdown 3\n",
    "    else: \n",
    "        R0 = (R_2_end-R_current) / (1 + np.exp(k5*(t-x5))) + R_current # ease\n",
    "    return R0\n",
    "\n",
    "def Model(days, agegroups, beds_per_100k, R_0_start, k, x0, R_0_end, prob_I_to_C, prob_C_to_D, s, R_1_start, k1, x1, R_1_end, k2, x2, R_2_start, k3, x3, R_2_end, k4, x4, R_current, k5, x5):\n",
    "\n",
    "    def beta(t):\n",
    "        return logistic_R_0(t, R_0_start, k, x0, R_0_end, R_1_start, k1, x1, R_1_end, k2, x2, R_2_start, k3, x3, R_2_end, k4, x4, R_current, k5, x5) * gamma\n",
    "\n",
    "    N = sum(agegroups)\n",
    "    \n",
    "    def Beds(t):\n",
    "        beds_0 = beds_per_100k / 100_000 * N\n",
    "        return beds_0 + s*beds_0*t  # 0.003\n",
    "\n",
    "    y0 = N-1.0, 1.0, 0.0, 0.0, 0.0, 0.0, 0.0, 0.0\n",
    "    t = np.linspace(0, days-1, days)\n",
    "    ret = odeint(deriv, y0, t, args=(beta, gamma, sigma, N, prob_I_to_C, prob_C_to_D, Beds,alpha1,alpha2,epsilon1,epsilon2))\n",
    "    S, E, I, C, R, D, V1, V2 = ret.T\n",
    "    R_0_over_time = [beta(i)/gamma for i in range(len(t))]\n",
    "\n",
    "    return t, S, E, I, C, R, D, V1, V2, R_0_over_time, Beds, prob_I_to_C, prob_C_to_D"
   ]
  },
  {
   "cell_type": "markdown",
   "id": "7c03f69c",
   "metadata": {},
   "source": [
    "# Curve Fit"
   ]
  },
  {
   "cell_type": "code",
   "execution_count": 8,
   "id": "d91cdd28",
   "metadata": {},
   "outputs": [],
   "source": [
    "\n",
    "# parameters\n",
    "israel_data = pd.read_csv(\"data/israel_data_for_model.csv\",parse_dates=True, index_col=['date'])\n",
    "data=israel_data.iloc[:,2].values \n",
    "agegroups = agegroup_lookup[\"Israel\"]\n",
    "beds_per_100k = 3\n",
    "outbreak_shift = 0\n",
    "\n",
    "params_init_min_max = {\"R_0_start\": (4.5, 2.0, 5.0), \"k\": (1, 0.01, 5.0), \"x0\": (80, 0, 100), \"R_0_end\": (0.5, 0, 1),\n",
    "                       \"prob_I_to_C\": (0.05, 0.01, 0.15), \"prob_C_to_D\": (0.3, 0.05, 0.8),\n",
    "                       \"s\": (0.003, 0.001, 0.01), \"R_1_start\":(1.5, 1.3, 2), \"k1\":(3, 0.01, 5.0), \"x1\":(120, 100,200),\n",
    "                       \"R_1_end\":(0.5, 0, 1), \"k2\":(1, 0.01, 5.0), \"x2\":(270, 200,300), \n",
    "                       \"R_2_start\":(1.7, 1.2, 2.5), \"k3\":(2, 0.01, 5.0), \"x3\":(290, 250,350),\n",
    "                       \"R_2_end\":(0.6, 0.4, 1), \"k4\":(4, 0.01, 5.0), \"x4\":(415, 350,450),\n",
    "                       \"R_current\":(5, 2, 8), \"k5\":(9, 0.01, 10.0), \"x5\":(440, 400,500)} \n",
    "\n"
   ]
  },
  {
   "cell_type": "code",
   "execution_count": 9,
   "id": "0ea202e8",
   "metadata": {},
   "outputs": [],
   "source": [
    "days = outbreak_shift + len(data)\n",
    "if outbreak_shift >= 0:\n",
    "    y_data = np.concatenate((np.zeros(outbreak_shift), data))\n",
    "else:\n",
    "    y_data = y_data[-outbreak_shift:]\n",
    "\n",
    "x_data = np.linspace(0, days - 1, days, dtype=int)  # x_data is just [0, 1, ..., max_days] array\n"
   ]
  },
  {
   "cell_type": "code",
   "execution_count": 10,
   "id": "03040f68",
   "metadata": {},
   "outputs": [],
   "source": [
    "def fitter(x, R_0_start, k, x0, R_0_end, prob_I_to_C, prob_C_to_D, s, R_1_start, k1, x1, R_1_end, k2, x2, R_2_start, k3, x3, R_2_end, k4, x4, R_current, k5, x5):\n",
    "    ret = Model(days, agegroups, beds_per_100k, R_0_start, k, x0, R_0_end, prob_I_to_C, prob_C_to_D, s,R_1_start, k1, x1, R_1_end, k2, x2, R_2_start, k3, x3, R_2_end, k4, x4, R_current, k5, x5)\n",
    "    return ret[6][x]"
   ]
  },
  {
   "cell_type": "code",
   "execution_count": 11,
   "id": "cd2794ec",
   "metadata": {},
   "outputs": [],
   "source": [
    "mod = lmfit.Model(fitter)\n",
    "\n",
    "for kwarg, (init, mini, maxi) in params_init_min_max.items():\n",
    "    mod.set_param_hint(str(kwarg), value=init, min=mini, max=maxi, vary=True)\n",
    "\n",
    "params = mod.make_params()"
   ]
  },
  {
   "cell_type": "code",
   "execution_count": null,
   "id": "693dd752",
   "metadata": {},
   "outputs": [],
   "source": [
    "result = mod.fit(y_data, params, method=\"least_squares\", x=x_data)"
   ]
  },
  {
   "cell_type": "code",
   "execution_count": null,
   "id": "dc4f30ce",
   "metadata": {
    "scrolled": true
   },
   "outputs": [],
   "source": [
    "result.plot_fit(datafmt=\"-\");\n"
   ]
  },
  {
   "cell_type": "code",
   "execution_count": null,
   "id": "0d65d022",
   "metadata": {},
   "outputs": [],
   "source": [
    "import math\n",
    "# RMSE??? \n",
    "rmse = math.sqrt(result.residual.var() / len(y_data))\n",
    "rmse\n",
    "# normalized: rmse / 130000"
   ]
  },
  {
   "cell_type": "code",
   "execution_count": null,
   "id": "9653912c",
   "metadata": {},
   "outputs": [],
   "source": [
    "result.best_values\n"
   ]
  },
  {
   "cell_type": "code",
   "execution_count": null,
   "id": "49ac30b1",
   "metadata": {},
   "outputs": [],
   "source": [
    "full_days = 600\n",
    "first_date = '2020-01-01'\n",
    "x_ticks = pd.date_range(start=first_date, periods=full_days, freq=\"D\")\n",
    "print(\"Prediction for Israel\")\n",
    "ret = Model(full_days, agegroup_lookup[\"Israel\"], 3, **result.best_values)\n",
    "plotter(*ret, x_ticks=x_ticks)\n",
    "\n",
    "actual = ret[1:9]\n",
    "df = pd.DataFrame(actual).T\n",
    "df.columns = [\"S\",\"E\",\"I\",\"C\",\"R\",\"D\",\"V1\", \"V2\"]\n",
    "df.to_csv(\"israel_model_data_TEST.csv\")"
   ]
  },
  {
   "cell_type": "markdown",
   "id": "f76a9970",
   "metadata": {},
   "source": [
    "# ERROR ANALYSIS"
   ]
  },
  {
   "cell_type": "code",
   "execution_count": null,
   "id": "f69b413f",
   "metadata": {},
   "outputs": [],
   "source": [
    "from sklearn.metrics import mean_absolute_error,mean_squared_error\n",
    "from sklearn.utils import check_array\n",
    "import math "
   ]
  },
  {
   "cell_type": "code",
   "execution_count": null,
   "id": "b97315e0",
   "metadata": {},
   "outputs": [],
   "source": [
    "actual_data = israel_data # deaths: col 2, v1: col 3, v2: col 4 \n",
    "predicted_data = pd.read_csv(\"israel_model_data_TEST.csv\") # deaths: col 6, v1: 7, v2: 8 \n",
    "\n",
    "df1=israel_data.values \n",
    "df2=predicted_data.iloc[:592].values \n"
   ]
  },
  {
   "cell_type": "code",
   "execution_count": null,
   "id": "156d8b7e",
   "metadata": {},
   "outputs": [],
   "source": [
    "errors = []\n",
    "for i in range (2,5):\n",
    "    y_true = df1[:,i]\n",
    "    y_pred = df2[:,i+4]\n",
    "   \n",
    "    mae = mean_absolute_error(y_true, y_pred)\n",
    "    mse = mean_squared_error(y_true, y_pred)\n",
    "    rmse = math.sqrt(mse)\n",
    "    arr = [mae,rmse]\n",
    "    errors.append(arr)\n",
    "    i+=1\n",
    "\n",
    "df = pd.DataFrame(errors,index=[\"D\",\"V1\",\"V2\"],columns=[\"MAE\",\"RMSE\"])\n",
    "df.head (n=3)"
   ]
  },
  {
   "cell_type": "code",
   "execution_count": null,
   "id": "295f2666",
   "metadata": {},
   "outputs": [],
   "source": [
    "x_data = pd.date_range(start='2020-01-01', periods=592, freq=\"D\")\n",
    "\n",
    "plt.plot(x_data, df1[:,3], label = \"actual 1st dose\")\n",
    "plt.plot(x_data, df2[:,7], label = \"modelled 1st dose\")\n",
    "plt.plot(x_data, df1[:,4], label = \"actual 2nd dose\")\n",
    "plt.plot(x_data, df2[:,8], label = \"modelled 2nd dose\")\n",
    "plt.legend()\n",
    "plt.show()\n"
   ]
  },
  {
   "cell_type": "code",
   "execution_count": null,
   "id": "cabdcb72",
   "metadata": {},
   "outputs": [],
   "source": [
    "plt.plot(x_data, df1[:,5], label = \"actual biweekly number of cases\")\n",
    "plt.plot(x_data, df2[:,3], label = \"predicted number of infected\")\n",
    "plt.legend()\n",
    "plt.show()"
   ]
  },
  {
   "cell_type": "code",
   "execution_count": null,
   "id": "499568f4",
   "metadata": {},
   "outputs": [],
   "source": []
  },
  {
   "cell_type": "code",
   "execution_count": null,
   "id": "580e098c",
   "metadata": {},
   "outputs": [],
   "source": []
  },
  {
   "cell_type": "code",
   "execution_count": null,
   "id": "b59fd793",
   "metadata": {},
   "outputs": [],
   "source": []
  },
  {
   "cell_type": "code",
   "execution_count": null,
   "id": "60eff3d2",
   "metadata": {},
   "outputs": [],
   "source": []
  }
 ],
 "metadata": {
  "kernelspec": {
   "display_name": "Python 3 (ipykernel)",
   "language": "python",
   "name": "python3"
  },
  "language_info": {
   "codemirror_mode": {
    "name": "ipython",
    "version": 3
   },
   "file_extension": ".py",
   "mimetype": "text/x-python",
   "name": "python",
   "nbconvert_exporter": "python",
   "pygments_lexer": "ipython3",
   "version": "3.8.8"
  }
 },
 "nbformat": 4,
 "nbformat_minor": 5
}
